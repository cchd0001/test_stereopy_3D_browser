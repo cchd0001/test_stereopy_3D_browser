{
 "cells": [
  {
   "cell_type": "code",
   "execution_count": 1,
   "id": "24f0e79b",
   "metadata": {},
   "outputs": [],
   "source": [
    "import sys\n",
    "sys.path.append('D:/GitHub/test_stereopy_3D_browser')\n",
    "from stereopy_3D_browser import launch"
   ]
  },
  {
   "cell_type": "code",
   "execution_count": 3,
   "id": "5f2f32e5",
   "metadata": {},
   "outputs": [],
   "source": [
    "import anndata as ad\n",
    "adata = ad.read_h5ad('D:/3d_mesh_paga_dpt.h5ad')"
   ]
  },
  {
   "cell_type": "code",
   "execution_count": null,
   "id": "791ab218",
   "metadata": {},
   "outputs": [
    {
     "name": "stdout",
     "output_type": "stream",
     "text": [
      "Current front-dir is D:\\GitHub\\test_stereopy_3D_browser/vt3d_browser\n",
      "Starting server on http://127.0.0.1:7654\n",
      "To ternimate this server , click: http://127.0.0.1:7654/endnow\n"
     ]
    }
   ],
   "source": [
    "launch(adata,meshes=adata.uns['mesh']['delaunay_3d'],cluster_label='annotation',spatial_label='spatial_rigid')"
   ]
  },
  {
   "cell_type": "code",
   "execution_count": null,
   "id": "137d177e",
   "metadata": {},
   "outputs": [],
   "source": []
  }
 ],
 "metadata": {
  "kernelspec": {
   "display_name": "Python 3 (ipykernel)",
   "language": "python",
   "name": "python3"
  },
  "language_info": {
   "codemirror_mode": {
    "name": "ipython",
    "version": 3
   },
   "file_extension": ".py",
   "mimetype": "text/x-python",
   "name": "python",
   "nbconvert_exporter": "python",
   "pygments_lexer": "ipython3",
   "version": "3.8.16"
  }
 },
 "nbformat": 4,
 "nbformat_minor": 5
}
