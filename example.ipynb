{
 "cells": [
  {
   "cell_type": "code",
   "execution_count": 1,
   "id": "24f0e79b",
   "metadata": {},
   "outputs": [],
   "source": [
    "import sys\n",
    "sys.path.append('D:/GitHub/test_stereopy_3D_browser')\n",
    "from stereopy_3D_browser import launch,endServer"
   ]
  },
  {
   "cell_type": "code",
   "execution_count": 2,
   "id": "5f2f32e5",
   "metadata": {},
   "outputs": [],
   "source": [
    "import anndata as ad\n",
    "#adata = ad.read_h5ad('D:/Flysta3D/3d_mesh_paga_dpt.h5ad') # debug mesh\n",
    "#adata = ad.read_h5ad('D:/WT.module.h5ad')                 # debug module\n",
    "adata = ad.read_h5ad('D:/L3_pca_out.h5ad')                # debug regulon\n",
    "#adata = ad.read_h5ad('D:/inside_mesh_68.anno_v1.uns_added.h5ad')  #debug CCC"
   ]
  },
  {
   "cell_type": "code",
   "execution_count": 6,
   "id": "1eb2018a",
   "metadata": {},
   "outputs": [
    {
     "data": {
      "text/html": [
       "<div>\n",
       "<style scoped>\n",
       "    .dataframe tbody tr th:only-of-type {\n",
       "        vertical-align: middle;\n",
       "    }\n",
       "\n",
       "    .dataframe tbody tr th {\n",
       "        vertical-align: top;\n",
       "    }\n",
       "\n",
       "    .dataframe thead th {\n",
       "        text-align: right;\n",
       "    }\n",
       "</style>\n",
       "<table border=\"1\" class=\"dataframe\">\n",
       "  <thead>\n",
       "    <tr style=\"text-align: right;\">\n",
       "      <th></th>\n",
       "      <th>celltype1</th>\n",
       "      <th>celltype2</th>\n",
       "      <th>ligand</th>\n",
       "      <th>receptor</th>\n",
       "    </tr>\n",
       "  </thead>\n",
       "  <tbody>\n",
       "    <tr>\n",
       "      <th>0</th>\n",
       "      <td>epicardial (EP)</td>\n",
       "      <td>endocardial/endothelial (EC)</td>\n",
       "      <td>COL1A2</td>\n",
       "      <td>CD93</td>\n",
       "    </tr>\n",
       "    <tr>\n",
       "      <th>1</th>\n",
       "      <td>epicardial (EP)</td>\n",
       "      <td>endocardial/endothelial (EC)</td>\n",
       "      <td>COL1A1</td>\n",
       "      <td>CD93</td>\n",
       "    </tr>\n",
       "    <tr>\n",
       "      <th>2</th>\n",
       "      <td>endocardial/endothelial (EC)</td>\n",
       "      <td>endocardial/endothelial (EC)</td>\n",
       "      <td>COL4A2</td>\n",
       "      <td>CD93</td>\n",
       "    </tr>\n",
       "    <tr>\n",
       "      <th>3</th>\n",
       "      <td>epicardial (EP)</td>\n",
       "      <td>endocardial/endothelial (EC)</td>\n",
       "      <td>APP</td>\n",
       "      <td>APLP2</td>\n",
       "    </tr>\n",
       "    <tr>\n",
       "      <th>4</th>\n",
       "      <td>fibro-mesenchymal (FM)</td>\n",
       "      <td>endocardial/endothelial (EC)</td>\n",
       "      <td>APP</td>\n",
       "      <td>APLP2</td>\n",
       "    </tr>\n",
       "    <tr>\n",
       "      <th>...</th>\n",
       "      <td>...</td>\n",
       "      <td>...</td>\n",
       "      <td>...</td>\n",
       "      <td>...</td>\n",
       "    </tr>\n",
       "    <tr>\n",
       "      <th>253</th>\n",
       "      <td>fibro-mesenchymal (FM)</td>\n",
       "      <td>epicardial (EP)</td>\n",
       "      <td>VIM</td>\n",
       "      <td>CD44</td>\n",
       "    </tr>\n",
       "    <tr>\n",
       "      <th>254</th>\n",
       "      <td>fibro-mesenchymal (FM)</td>\n",
       "      <td>fibro-mesenchymal (FM)</td>\n",
       "      <td>VIM</td>\n",
       "      <td>CD44</td>\n",
       "    </tr>\n",
       "    <tr>\n",
       "      <th>255</th>\n",
       "      <td>fibro-mesenchymal (FM)</td>\n",
       "      <td>ventricular-specific CM</td>\n",
       "      <td>VIM</td>\n",
       "      <td>CD44</td>\n",
       "    </tr>\n",
       "    <tr>\n",
       "      <th>256</th>\n",
       "      <td>ventricular-specific CM</td>\n",
       "      <td>atrial-specific CM</td>\n",
       "      <td>VIM</td>\n",
       "      <td>CD44</td>\n",
       "    </tr>\n",
       "    <tr>\n",
       "      <th>257</th>\n",
       "      <td>ventricular-specific CM</td>\n",
       "      <td>epicardial (EP)</td>\n",
       "      <td>VIM</td>\n",
       "      <td>CD44</td>\n",
       "    </tr>\n",
       "  </tbody>\n",
       "</table>\n",
       "<p>258 rows × 4 columns</p>\n",
       "</div>"
      ],
      "text/plain": [
       "                        celltype1                     celltype2  ligand  \\\n",
       "0                 epicardial (EP)  endocardial/endothelial (EC)  COL1A2   \n",
       "1                 epicardial (EP)  endocardial/endothelial (EC)  COL1A1   \n",
       "2    endocardial/endothelial (EC)  endocardial/endothelial (EC)  COL4A2   \n",
       "3                 epicardial (EP)  endocardial/endothelial (EC)     APP   \n",
       "4          fibro-mesenchymal (FM)  endocardial/endothelial (EC)     APP   \n",
       "..                            ...                           ...     ...   \n",
       "253        fibro-mesenchymal (FM)               epicardial (EP)     VIM   \n",
       "254        fibro-mesenchymal (FM)        fibro-mesenchymal (FM)     VIM   \n",
       "255        fibro-mesenchymal (FM)       ventricular-specific CM     VIM   \n",
       "256       ventricular-specific CM            atrial-specific CM     VIM   \n",
       "257       ventricular-specific CM               epicardial (EP)     VIM   \n",
       "\n",
       "    receptor  \n",
       "0       CD93  \n",
       "1       CD93  \n",
       "2       CD93  \n",
       "3      APLP2  \n",
       "4      APLP2  \n",
       "..       ...  \n",
       "253     CD44  \n",
       "254     CD44  \n",
       "255     CD44  \n",
       "256     CD44  \n",
       "257     CD44  \n",
       "\n",
       "[258 rows x 4 columns]"
      ]
     },
     "execution_count": 6,
     "metadata": {},
     "output_type": "execute_result"
    }
   ],
   "source": [
    "adata.uns['ccc_data']"
   ]
  },
  {
   "cell_type": "code",
   "execution_count": 7,
   "id": "cc771a10",
   "metadata": {},
   "outputs": [
    {
     "data": {
      "text/plain": [
       "Index(['celltype1', 'celltype2', 'ligand', 'receptor'], dtype='object')"
      ]
     },
     "execution_count": 7,
     "metadata": {},
     "output_type": "execute_result"
    }
   ],
   "source": [
    "adata.uns['ccc_data'].columns"
   ]
  },
  {
   "cell_type": "code",
   "execution_count": 3,
   "id": "cdb93644",
   "metadata": {},
   "outputs": [],
   "source": [
    "aux_mtx = adata.uns['auc_mtx']\n",
    "adata.uns['grn'] = {}\n",
    "adata.uns['grn']['auc_mtx'] = aux_mtx\n",
    "adata.uns['auc_mtx'] = None"
   ]
  },
  {
   "cell_type": "code",
   "execution_count": 5,
   "id": "cb654190",
   "metadata": {},
   "outputs": [
    {
     "data": {
      "text/plain": [
       "AnnData object with n_obs × n_vars = 43310 × 16326\n",
       "    obs: 'slice_ID', 'raw_x', 'raw_y', 'new_x', 'new_y', 'new_z', 'annotation'\n",
       "    uns: 'annotation_colors', 'auc_mtx', 'grn'\n",
       "    obsm: 'X_umap', 'spatial'\n",
       "    layers: 'raw_counts'"
      ]
     },
     "execution_count": 5,
     "metadata": {},
     "output_type": "execute_result"
    }
   ],
   "source": [
    "adata"
   ]
  },
  {
   "cell_type": "code",
   "execution_count": 6,
   "id": "a87d5186",
   "metadata": {},
   "outputs": [
    {
     "name": "stdout",
     "output_type": "stream",
     "text": [
      "Current front-dir is d:\\Github\\test_stereopy_3D_browser/vt3d_browser\n",
      "Server staring now ...\n",
      "Call endServer(\"127.0.0.1\",7654) to end this server\n"
     ]
    },
    {
     "data": {
      "text/html": [
       "\n",
       "        <iframe\n",
       "            width=\"1600\"\n",
       "            height=\"1000\"\n",
       "            src=\"http://127.0.0.1:7654/\"\n",
       "            frameborder=\"0\"\n",
       "            allowfullscreen\n",
       "            \n",
       "        ></iframe>\n",
       "        "
      ],
      "text/plain": [
       "<IPython.lib.display.IFrame at 0x1df82eedb20>"
      ]
     },
     "execution_count": 6,
     "metadata": {},
     "output_type": "execute_result"
    },
    {
     "name": "stderr",
     "output_type": "stream",
     "text": [
      "127.0.0.1 - - [09/Jun/2023 10:17:55] \"GET / HTTP/1.1\" 200 -\n",
      "127.0.0.1 - - [09/Jun/2023 10:17:55] \"GET /manifest.js?09577f2158af567ca79b HTTP/1.1\" 200 -\n",
      "127.0.0.1 - - [09/Jun/2023 10:17:55] \"GET /index.js?9b29937d8522833ccae9 HTTP/1.1\" 200 -\n",
      "127.0.0.1 - - [09/Jun/2023 10:17:56] \"GET /vendor.js?68206e36d03a47277cba HTTP/1.1\" 200 -\n",
      "127.0.0.1 - - [09/Jun/2023 10:17:56] \"GET /summary.json HTTP/1.1\" 200 -\n",
      "127.0.0.1 - - [09/Jun/2023 10:17:56] \"GET /Anno/annotation.json HTTP/1.1\" 200 -\n",
      "127.0.0.1 - - [09/Jun/2023 10:18:04] \"GET /regulon.json HTTP/1.1\" 200 -\n",
      "127.0.0.1 - - [09/Jun/2023 10:18:07] \"GET /Regulon/Atf3___.json HTTP/1.1\" 200 -\n",
      "127.0.0.1 - - [09/Jun/2023 10:19:18] \"GET /gene.json HTTP/1.1\" 200 -\n",
      "127.0.0.1 - - [09/Jun/2023 10:19:50] \"GET /Gene/DPCoAC.json HTTP/1.1\" 200 -\n"
     ]
    }
   ],
   "source": [
    "launch(adata,cluster_label=['annotation'],spatial_label='spatial')"
   ]
  },
  {
   "cell_type": "code",
   "execution_count": 7,
   "id": "58d95d9e",
   "metadata": {},
   "outputs": [
    {
     "data": {
      "text/html": [
       "\n",
       "        <iframe\n",
       "            width=\"500\"\n",
       "            height=\"50\"\n",
       "            src=\"http://127.0.0.1:7654/endnow\"\n",
       "            frameborder=\"0\"\n",
       "            allowfullscreen\n",
       "            \n",
       "        ></iframe>\n",
       "        "
      ],
      "text/plain": [
       "<IPython.lib.display.IFrame at 0x1df85f7dc40>"
      ]
     },
     "execution_count": 7,
     "metadata": {},
     "output_type": "execute_result"
    },
    {
     "name": "stdout",
     "output_type": "stream",
     "text": [
      "Server terminate ...\n"
     ]
    },
    {
     "name": "stderr",
     "output_type": "stream",
     "text": [
      "127.0.0.1 - - [09/Jun/2023 10:20:05] \"GET /endnow HTTP/1.1\" 404 -\n"
     ]
    }
   ],
   "source": [
    "endServer(\"127.0.0.1\",7654) "
   ]
  },
  {
   "cell_type": "code",
   "execution_count": 3,
   "id": "791ab218",
   "metadata": {},
   "outputs": [
    {
     "name": "stdout",
     "output_type": "stream",
     "text": [
      "Current front-dir is d:\\Github\\test_stereopy_3D_browser/vt3d_browser\n",
      "To ternimate this server , click: http://127.0.0.1:7654/endnow\n"
     ]
    },
    {
     "data": {
      "text/html": [
       "\n",
       "        <iframe\n",
       "            width=\"1600\"\n",
       "            height=\"1000\"\n",
       "            src=\"http://127.0.0.1:7654/\"\n",
       "            frameborder=\"0\"\n",
       "            allowfullscreen\n",
       "            \n",
       "        ></iframe>\n",
       "        "
      ],
      "text/plain": [
       "<IPython.lib.display.IFrame at 0x2386f113c10>"
      ]
     },
     "execution_count": 3,
     "metadata": {},
     "output_type": "execute_result"
    },
    {
     "name": "stderr",
     "output_type": "stream",
     "text": [
      "127.0.0.1 - - [07/Jun/2023 16:16:12] \"GET / HTTP/1.1\" 200 -\n",
      "127.0.0.1 - - [07/Jun/2023 16:16:12] \"GET /manifest.js?3986c46c49d8115516f8 HTTP/1.1\" 200 -\n",
      "127.0.0.1 - - [07/Jun/2023 16:16:12] \"GET /vendor.js?68206e36d03a47277cba HTTP/1.1\" 200 -\n",
      "127.0.0.1 - - [07/Jun/2023 16:16:12] \"GET /index.js?f87c345521b2709121f7 HTTP/1.1\" 200 -\n",
      "127.0.0.1 - - [07/Jun/2023 16:16:12] \"GET /summary.json HTTP/1.1\" 200 -\n",
      "127.0.0.1 - - [07/Jun/2023 16:16:14] \"GET /meshes.json HTTP/1.1\" 200 -\n",
      "127.0.0.1 - - [07/Jun/2023 16:16:14] \"GET /Anno/annotation.json HTTP/1.1\" 200 -\n",
      "127.0.0.1 - - [07/Jun/2023 16:17:45] \"GET /gene.json HTTP/1.1\" 200 -\n",
      "127.0.0.1 - - [07/Jun/2023 16:18:00] \"GET /Gene/18SrRNA-Psi:CR41602.json HTTP/1.1\" 200 -\n"
     ]
    }
   ],
   "source": [
    "launch(adata,meshes=adata.uns['mesh']['delaunay_3d'],cluster_label=['annotation'],spatial_label='spatial_rigid')"
   ]
  },
  {
   "cell_type": "code",
   "execution_count": null,
   "id": "1cc2f914",
   "metadata": {},
   "outputs": [],
   "source": []
  },
  {
   "cell_type": "code",
   "execution_count": null,
   "id": "137d177e",
   "metadata": {},
   "outputs": [],
   "source": []
  }
 ],
 "metadata": {
  "kernelspec": {
   "display_name": "Python 3 (ipykernel)",
   "language": "python",
   "name": "python3"
  },
  "language_info": {
   "codemirror_mode": {
    "name": "ipython",
    "version": 3
   },
   "file_extension": ".py",
   "mimetype": "text/x-python",
   "name": "python",
   "nbconvert_exporter": "python",
   "pygments_lexer": "ipython3",
   "version": "3.8.16"
  }
 },
 "nbformat": 4,
 "nbformat_minor": 5
}
